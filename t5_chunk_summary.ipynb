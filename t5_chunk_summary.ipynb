{
  "nbformat": 4,
  "nbformat_minor": 0,
  "metadata": {
    "colab": {
      "provenance": [],
      "gpuType": "T4"
    },
    "kernelspec": {
      "name": "python3",
      "display_name": "Python 3"
    },
    "language_info": {
      "name": "python"
    },
    "accelerator": "GPU"
  },
  "cells": [
    {
      "cell_type": "code",
      "execution_count": 1,
      "metadata": {
        "colab": {
          "base_uri": "https://localhost:8080/"
        },
        "id": "fnD7GQ1NfHn2",
        "outputId": "5e24e53f-73a8-4bf4-bc49-8b771b58a5e8"
      },
      "outputs": [
        {
          "output_type": "stream",
          "name": "stdout",
          "text": [
            "Mounted at /content/drive\n"
          ]
        }
      ],
      "source": [
        "from google.colab import drive\n",
        "drive.mount('/content/drive')"
      ]
    },
    {
      "cell_type": "code",
      "source": [
        "!unzip -q /content/drive/MyDrive/IN-Abs-small.zip -d /content/"
      ],
      "metadata": {
        "id": "R_FAoflkfIo9"
      },
      "execution_count": 2,
      "outputs": []
    },
    {
      "cell_type": "code",
      "source": [
        "!pip install --quiet transformers datasets evaluate"
      ],
      "metadata": {
        "colab": {
          "base_uri": "https://localhost:8080/"
        },
        "id": "oOn90rn7fOGs",
        "outputId": "5052e8ac-8fba-41ff-93f7-746ad4b3b301"
      },
      "execution_count": 3,
      "outputs": [
        {
          "output_type": "stream",
          "name": "stdout",
          "text": [
            "\u001b[?25l   \u001b[90m━━━━━━━━━━━━━━━━━━━━━━━━━━━━━━━━━━━━━━━━\u001b[0m \u001b[32m0.0/84.1 kB\u001b[0m \u001b[31m?\u001b[0m eta \u001b[36m-:--:--\u001b[0m\r\u001b[2K   \u001b[90m━━━━━━━━━━━━━━━━━━━━━━━━━━━━━━━━━━━━━━━━\u001b[0m \u001b[32m84.1/84.1 kB\u001b[0m \u001b[31m2.3 MB/s\u001b[0m eta \u001b[36m0:00:00\u001b[0m\n",
            "\u001b[?25h"
          ]
        }
      ]
    },
    {
      "cell_type": "code",
      "source": [
        "test_judgement_dir = '/content/IN-Abs-small/test-data/judgement'\n",
        "test_summary_dir = '/content/IN-Abs-small/test-data/summary'"
      ],
      "metadata": {
        "id": "SB3qCkxQfWWz"
      },
      "execution_count": 4,
      "outputs": []
    },
    {
      "cell_type": "code",
      "source": [
        "import os"
      ],
      "metadata": {
        "id": "U1mC86FzfeXw"
      },
      "execution_count": 5,
      "outputs": []
    },
    {
      "cell_type": "code",
      "source": [
        "output_path = '/content/drive/MyDrive/IN-Abs-small-results'\n",
        "os.makedirs(output_path, exist_ok=True)\n",
        "# Save your results there"
      ],
      "metadata": {
        "id": "zZ5BbsxXfbtU"
      },
      "execution_count": 6,
      "outputs": []
    },
    {
      "cell_type": "code",
      "source": [
        "import os\n",
        "import torch\n",
        "from transformers import AutoTokenizer, AutoModelForSeq2SeqLM\n",
        "from evaluate import load\n",
        "\n",
        "device = 'cuda' if torch.cuda.is_available() else 'cpu'  # Define device first\n",
        "print(f\"Using device: {device}\")\n",
        "\n",
        "model_name = 't5-base'  # You can switch to t5-small or t5-large as needed\n",
        "tokenizer = AutoTokenizer.from_pretrained(model_name)\n",
        "model = AutoModelForSeq2SeqLM.from_pretrained(model_name).to(device)\n",
        "rouge = load('rouge')\n",
        "\n",
        "# 4. Function to chunk text into max 512 tokens\n",
        "def chunk_text(text, max_tokens=512):\n",
        "    tokens = tokenizer.encode(text, truncation=False)\n",
        "    chunks = [tokens[i:i+max_tokens] for i in range(0, len(tokens), max_tokens)]\n",
        "    return [tokenizer.decode(chunk, skip_special_tokens=True, clean_up_tokenization_spaces=True) for chunk in chunks]\n",
        "\n",
        "# 5. Summarize chunks and aggregate\n",
        "def summarize_chunks(chunks):\n",
        "    summaries = []\n",
        "    for chunk in chunks:\n",
        "        input_ids = tokenizer('summarize: ' + chunk, return_tensors='pt', truncation=True, max_length=512).input_ids.to(device)\n",
        "        with torch.no_grad():\n",
        "            output_ids = model.generate(input_ids, max_length=150, num_beams=4, early_stopping=True)\n",
        "        summary = tokenizer.decode(output_ids[0], skip_special_tokens=True)\n",
        "        summaries.append(summary)\n",
        "    return ' '.join(summaries)\n",
        "\n",
        "# 6. Paths for test-data\n",
        "test_judgement_dir = '/content/IN-Abs-small/test-data/judgement'\n",
        "test_summary_dir = '/content/IN-Abs-small/test-data/summary'\n",
        "\n",
        "# 7. Run summarization and ROUGE evaluation\n",
        "all_rouge_scores = []\n",
        "\n",
        "for filename in os.listdir(test_judgement_dir):\n",
        "    if not filename.endswith('.txt'):\n",
        "        continue\n",
        "\n",
        "    # Read judgement file and chunk\n",
        "    with open(os.path.join(test_judgement_dir, filename), 'r', encoding='utf-8') as f:\n",
        "        judgement_text = f.read()\n",
        "\n",
        "    chunks = chunk_text(judgement_text, max_tokens=512)\n",
        "    generated_summary = summarize_chunks(chunks)\n",
        "\n",
        "    # Read reference summary\n",
        "    with open(os.path.join(test_summary_dir, filename), 'r', encoding='utf-8') as f:\n",
        "        reference_summary = f.read()\n",
        "\n",
        "    # Compute ROUGE\n",
        "    scores = rouge.compute(predictions=[generated_summary], references=[reference_summary])\n",
        "    all_rouge_scores.append((filename, scores))\n",
        "\n",
        "    print(f\"File: {filename}\\nROUGE Scores: {scores}\\n\")\n"
      ],
      "metadata": {
        "colab": {
          "base_uri": "https://localhost:8080/"
        },
        "id": "yPolMSa8fdPa",
        "outputId": "500deffd-b441-481f-a8bb-f9c889b60ed7"
      },
      "execution_count": 10,
      "outputs": [
        {
          "output_type": "stream",
          "name": "stdout",
          "text": [
            "Using device: cuda\n",
            "File: 5937.txt\n",
            "ROUGE Scores: {'rouge1': np.float64(0.6469002695417789), 'rouge2': np.float64(0.5311653116531165), 'rougeL': np.float64(0.5390835579514824), 'rougeLsum': np.float64(0.6361185983827493)}\n",
            "\n",
            "File: 2440.txt\n",
            "ROUGE Scores: {'rouge1': np.float64(0.525027808676307), 'rouge2': np.float64(0.2594654788418709), 'rougeL': np.float64(0.22691879866518355), 'rougeLsum': np.float64(0.4360400444938821)}\n",
            "\n",
            "File: 7109.txt\n",
            "ROUGE Scores: {'rouge1': np.float64(0.3930510314875136), 'rouge2': np.float64(0.21545157780195864), 'rougeL': np.float64(0.24972855591748105), 'rougeLsum': np.float64(0.34310532030401736)}\n",
            "\n",
            "File: 4963.txt\n",
            "ROUGE Scores: {'rouge1': np.float64(0.36923076923076925), 'rouge2': np.float64(0.2596401028277635), 'rougeL': np.float64(0.28717948717948716), 'rougeLsum': np.float64(0.3435897435897436)}\n",
            "\n",
            "File: 2649.txt\n",
            "ROUGE Scores: {'rouge1': np.float64(0.5354523227383863), 'rouge2': np.float64(0.23529411764705885), 'rougeL': np.float64(0.25916870415647913), 'rougeLsum': np.float64(0.46943765281173594)}\n",
            "\n",
            "File: 1181.txt\n",
            "ROUGE Scores: {'rouge1': np.float64(0.5543766578249336), 'rouge2': np.float64(0.2047872340425532), 'rougeL': np.float64(0.27320954907161804), 'rougeLsum': np.float64(0.46684350132625996)}\n",
            "\n",
            "File: 3356.txt\n",
            "ROUGE Scores: {'rouge1': np.float64(0.45454545454545453), 'rouge2': np.float64(0.1975683890577508), 'rougeL': np.float64(0.20303030303030303), 'rougeLsum': np.float64(0.37272727272727274)}\n",
            "\n",
            "File: 1195.txt\n",
            "ROUGE Scores: {'rouge1': np.float64(0.514919011082694), 'rouge2': np.float64(0.2237403928266439), 'rougeL': np.float64(0.2404092071611253), 'rougeLsum': np.float64(0.4092071611253197)}\n",
            "\n",
            "File: 2052.txt\n",
            "ROUGE Scores: {'rouge1': np.float64(0.5208163265306122), 'rouge2': np.float64(0.26001635322976285), 'rougeL': np.float64(0.24163265306122453), 'rougeLsum': np.float64(0.45877551020408164)}\n",
            "\n",
            "File: 2657.txt\n",
            "ROUGE Scores: {'rouge1': np.float64(0.5143540669856459), 'rouge2': np.float64(0.1990407673860911), 'rougeL': np.float64(0.1937799043062201), 'rougeLsum': np.float64(0.40669856459330145)}\n",
            "\n",
            "File: 3924.txt\n",
            "ROUGE Scores: {'rouge1': np.float64(0.40797824116047143), 'rouge2': np.float64(0.21798365122615804), 'rougeL': np.float64(0.257479601087942), 'rougeLsum': np.float64(0.3481414324569356)}\n",
            "\n",
            "File: 1778.txt\n",
            "ROUGE Scores: {'rouge1': np.float64(0.36722306525037934), 'rouge2': np.float64(0.1948249619482496), 'rougeL': np.float64(0.22154779969650987), 'rougeLsum': np.float64(0.3156297420333839)}\n",
            "\n",
            "File: 2609.txt\n",
            "ROUGE Scores: {'rouge1': np.float64(0.46464646464646464), 'rouge2': np.float64(0.2364864864864865), 'rougeL': np.float64(0.2861952861952862), 'rougeLsum': np.float64(0.3905723905723905)}\n",
            "\n",
            "File: 3893.txt\n",
            "ROUGE Scores: {'rouge1': np.float64(0.31493506493506496), 'rouge2': np.float64(0.16097560975609757), 'rougeL': np.float64(0.21266233766233766), 'rougeLsum': np.float64(0.288961038961039)}\n",
            "\n",
            "File: 2304.txt\n",
            "ROUGE Scores: {'rouge1': np.float64(0.5415512465373962), 'rouge2': np.float64(0.21497919556171982), 'rougeL': np.float64(0.23407202216066483), 'rougeLsum': np.float64(0.48199445983379496)}\n",
            "\n",
            "File: 5707.txt\n",
            "ROUGE Scores: {'rouge1': np.float64(0.3982074263764404), 'rouge2': np.float64(0.21153846153846154), 'rougeL': np.float64(0.22407170294494236), 'rougeLsum': np.float64(0.3508322663252241)}\n",
            "\n",
            "File: 660.txt\n",
            "ROUGE Scores: {'rouge1': np.float64(0.3015410245730946), 'rouge2': np.float64(0.13172155064610253), 'rougeL': np.float64(0.14743856726364013), 'rougeLsum': np.float64(0.2432319866722199)}\n",
            "\n",
            "File: 690.txt\n",
            "ROUGE Scores: {'rouge1': np.float64(0.5165315034310667), 'rouge2': np.float64(0.2660836976889444), 'rougeL': np.float64(0.27323767935121646), 'rougeLsum': np.float64(0.40548970679975044)}\n",
            "\n",
            "File: 1789.txt\n",
            "ROUGE Scores: {'rouge1': np.float64(0.5165794066317626), 'rouge2': np.float64(0.26269702276707524), 'rougeL': np.float64(0.27574171029668415), 'rougeLsum': np.float64(0.4223385689354276)}\n",
            "\n",
            "File: 2248.txt\n",
            "ROUGE Scores: {'rouge1': np.float64(0.5716999050332384), 'rouge2': np.float64(0.2530922930542341), 'rougeL': np.float64(0.2716049382716049), 'rougeLsum': np.float64(0.49382716049382713)}\n",
            "\n"
          ]
        }
      ]
    },
    {
      "cell_type": "code",
      "source": [
        "# Get keys from the dict inside the first tuple\n",
        "keys = all_rouge_scores[0][1].keys()\n",
        "\n",
        "avg_rouge = {}\n",
        "for key in keys:\n",
        "    avg_rouge[key] = (\n",
        "        sum(scores[1][key] for scores in all_rouge_scores)\n",
        "        / len(all_rouge_scores)\n",
        "    )\n",
        "\n",
        "print(\"Average ROUGE scores across all test files:\")\n",
        "for key, val in avg_rouge.items():\n",
        "    print(f\"{key}: {val:.4f}\")\n"
      ],
      "metadata": {
        "colab": {
          "base_uri": "https://localhost:8080/"
        },
        "id": "olBWfaqjiuTE",
        "outputId": "8435b6da-bee6-4d7d-fa49-29a5c2098bbe"
      },
      "execution_count": 18,
      "outputs": [
        {
          "output_type": "stream",
          "name": "stdout",
          "text": [
            "Average ROUGE scores across all test files:\n",
            "rouge1: 0.4715\n",
            "rouge2: 0.2368\n",
            "rougeL: 0.2559\n",
            "rougeLsum: 0.4042\n"
          ]
        }
      ]
    },
    {
      "cell_type": "code",
      "source": [
        "!pip install rouge_score\n"
      ],
      "metadata": {
        "colab": {
          "base_uri": "https://localhost:8080/"
        },
        "id": "pbyCsku3fnMk",
        "outputId": "feb9597c-9309-463a-f0ae-704908f5c1b0"
      },
      "execution_count": 8,
      "outputs": [
        {
          "output_type": "stream",
          "name": "stdout",
          "text": [
            "Collecting rouge_score\n",
            "  Downloading rouge_score-0.1.2.tar.gz (17 kB)\n",
            "  Preparing metadata (setup.py) ... \u001b[?25l\u001b[?25hdone\n",
            "Requirement already satisfied: absl-py in /usr/local/lib/python3.12/dist-packages (from rouge_score) (1.4.0)\n",
            "Requirement already satisfied: nltk in /usr/local/lib/python3.12/dist-packages (from rouge_score) (3.9.1)\n",
            "Requirement already satisfied: numpy in /usr/local/lib/python3.12/dist-packages (from rouge_score) (2.0.2)\n",
            "Requirement already satisfied: six>=1.14.0 in /usr/local/lib/python3.12/dist-packages (from rouge_score) (1.17.0)\n",
            "Requirement already satisfied: click in /usr/local/lib/python3.12/dist-packages (from nltk->rouge_score) (8.2.1)\n",
            "Requirement already satisfied: joblib in /usr/local/lib/python3.12/dist-packages (from nltk->rouge_score) (1.5.1)\n",
            "Requirement already satisfied: regex>=2021.8.3 in /usr/local/lib/python3.12/dist-packages (from nltk->rouge_score) (2024.11.6)\n",
            "Requirement already satisfied: tqdm in /usr/local/lib/python3.12/dist-packages (from nltk->rouge_score) (4.67.1)\n",
            "Building wheels for collected packages: rouge_score\n",
            "  Building wheel for rouge_score (setup.py) ... \u001b[?25l\u001b[?25hdone\n",
            "  Created wheel for rouge_score: filename=rouge_score-0.1.2-py3-none-any.whl size=24934 sha256=b4db1e01dd68ce5a490f6b762e3643cfde58f6e750a4996e712a2730e3b8d0ee\n",
            "  Stored in directory: /root/.cache/pip/wheels/85/9d/af/01feefbe7d55ef5468796f0c68225b6788e85d9d0a281e7a70\n",
            "Successfully built rouge_score\n",
            "Installing collected packages: rouge_score\n",
            "Successfully installed rouge_score-0.1.2\n"
          ]
        }
      ]
    },
    {
      "cell_type": "markdown",
      "source": [
        "testing few summaries"
      ],
      "metadata": {
        "id": "mlfY2yD8lZZr"
      }
    },
    {
      "cell_type": "code",
      "source": [
        "for i, filename in enumerate(os.listdir(test_judgement_dir)):\n",
        "    if not filename.endswith('.txt'):\n",
        "        continue\n",
        "\n",
        "    # Read judgement file and chunk\n",
        "    with open(os.path.join(test_judgement_dir, filename), 'r', encoding='utf-8') as f:\n",
        "        judgement_text = f.read()\n",
        "\n",
        "    chunks = chunk_text(judgement_text, max_tokens=512)\n",
        "    generated_summary = summarize_chunks(chunks)\n",
        "\n",
        "    # Read reference summary\n",
        "    with open(os.path.join(test_summary_dir, filename), 'r', encoding='utf-8') as f:\n",
        "        reference_summary = f.read()\n",
        "\n",
        "    # Compute ROUGE\n",
        "    scores = rouge.compute(predictions=[generated_summary], references=[reference_summary])\n",
        "    all_rouge_scores.append((filename, scores))\n",
        "\n",
        "    # Print ROUGE and summaries for first 3 files only\n",
        "    if i < 3:\n",
        "        print(f\"\\n=== File: {filename} ===\")\n",
        "        print(f\"Generated Summary:\\n{generated_summary}\\n\")\n",
        "        print(f\"Reference Summary:\\n{reference_summary}\\n\")\n",
        "        print(f\"ROUGE Scores: {scores}\\n\")\n"
      ],
      "metadata": {
        "colab": {
          "base_uri": "https://localhost:8080/"
        },
        "id": "9Z6AO6Ecggqq",
        "outputId": "1b6025f0-ecf1-49e6-a1f1-84e89493a56c"
      },
      "execution_count": 19,
      "outputs": [
        {
          "output_type": "stream",
          "name": "stdout",
          "text": [
            "\n",
            "=== File: 5937.txt ===\n",
            "Generated Summary:\n",
            "the value of the processed fabric would be the value of the grey cloth in the hands of the processor . the factory gate here means the \"deemed\" factory gate as if the processed fabric was sold by the processor . if the trader gave a declaration to the processor as to what would be the price at which he would be selling the processed goods in the market . the price at which he is selling the goods must be the value of the grey cloth or fabric plus the value of the job work done plus the manufacturing profit and the manufacturing expenses . it is necessary to include the processor's expenses, costs and charges plus profit, but it is not necessary to include the trader's profits who gets the fabrics processed .\n",
            "\n",
            "Reference Summary:\n",
            "On a civil miscellaneous petition for clarification of this Court 's judgment dated 4th November, 1988, the Court.\n",
            "HELD: The assessable value of the processed fabric would be the value of the grey cloth in the hands of the processor plus the value of the job work done plus manufacturing profit and manufacturing expenses whatever these may be, which will either be included in the price at the factory gate or deemed to be the price at the factory gate for the processed fabric.\n",
            "[345D E] The factory gate means the \"deemed\" factory gate as if the processed fabric was sold by the processor.\n",
            "[345E] If the trader.\n",
            "who entrusts cotton or man made fabric to the processor for processing on job work basis, would give a declaration to the processor as to what would be the price at which he would be selling the processed goods in the market, that would be taken by the Excise authorities as the assessable value of the processed fabric and excise duty would be charged to the processor on that basis.\n",
            "Such a declaration would include only the price or deemed price at which the processed fabric would leave the processor 's factory plus his profit.\n",
            "It is necessary to include the processor 's expenses, costs and charges plus profit, but not the trader 's profits who gets the fabrics processed, because those would be post manufacturing profits.\n",
            "[345G H; 346B C]\n",
            "\n",
            "\n",
            "ROUGE Scores: {'rouge1': np.float64(0.6469002695417789), 'rouge2': np.float64(0.5311653116531165), 'rougeL': np.float64(0.5390835579514824), 'rougeLsum': np.float64(0.6361185983827493)}\n",
            "\n",
            "\n",
            "=== File: 2440.txt ===\n",
            "Generated Summary:\n",
            "appeal by special leave from an award of the Industrial Tribunal, Orissa, Cuttack . workmen of Orient Paper Mills Ltd., Brajrajnagar, come up in this appeal by special leave . the Tribunal gave its award on all the thirty items of dispute . the Tribunal found that there are only two other paper mills in the region . the strength of their labour force and the annual production were mueh lower . the Tribunal found that there are only two other Paper Mills in the region . tiffs is a finding of fact recorded by the Tribunal and nothing has been shown . learned counsel unable to urge that this finding of fact suffered from any error at all . the lowest paid worker in the Paper Mill gets more than what is paid as minimum wage . in other industries, the minimum wage is above Rs. 90 in almost all the cases . learned counsel had to admit that no specific plea was taken by the Company in this behalf . the Tribunal held that it would be appropriate to fix the minimum wage in the Company on the basis of the minimum wage prevailing in other industries in that region . learned counsel for the Company argued that the minimum wage should have been fixed on the basis of the average minimum wage prevailing in these concerns . the minimum wage in the Company must be fixed at the average level of 'wages in the other comparable industries in the region' it was also urged that, in fixing the minimum wage, the wages payable in the paper industry in other. parts of the country. should also be kept in view . but there is nothing to show that the Company is providing any amenities which are different from the amenities that are being provided by the Company . minimum wage is the total wage packet receivable by the workman . there is no extra amount received as production bonus . there is only an exception in the case of Indian Aluminium Company . the profit bonus that is paid is three months'basic wage . it does not take into account the dearness allowance and the production bonus elements of the total wage . learned counsel for the workmen argued that the dearness allowance element of the wage should be linked with the Price Index . the Tribunal left it to the workmen to ask for increase in minimum wage on any further rise in Price Index and did not consider it advisable to link the wages with it . in the present case, the Tribunal chose the course of leaving it to the workmen to ask for increase in minimum wage on any further rise in Price Index . the workmen did not press for such linking when the award was being given . the revised wages are payable with effect from 13th December, 1962 . by this time, a period of 5 to 6 years has elapsed, so arrears will have to be paid . the company is paying profit bonus equivalent to three months'basic wage of each workman . the dispute was raised by the workmen 'before the expiry of the year 1962 63' the reference was made by the Government on the 4th October, 1962 . at that time, the year 1962 63 was still running and the accounts could not possibly be closed and made available . the tribunal was correct in not trying to work out surplus according to the Full Bench Formula . the award had to cover the year 1963 64 and could not possibly have been completed . the tribunal was expected to decide the dispute only as referred to it . there is no discrimination or inequality as urged on behalf of the workmen . the tribunal rejected this demand on the ground that the workmen and the Company had agreed to exclude these classes of workers . the appeal is only partly allowed inasmuch as the minimum wage fixed by the Tribunal is carried .\n",
            "\n",
            "Reference Summary:\n",
            "An industrial dispute regarding fixation of wages and bonus, between the respondent paper mills and its workmen, the appellants, was referred to the Industrial Tribunal in October, 1962, and the reference included a dispute about bonus payable for the years 1962 63 and 1963 64.\n",
            "The Tribunal held: (1 ) that there were in the region no ' other concerns in the same line of business which could be compared with the respondent but that there were three collieries, a steel plant, a cement factory and an aluminum company in the region which were comparable with the resportdent, that as the minimum wage in those industries which was about Rs. 95 was above that of the respondent, a revision of the minimum wage in the respondent mills was justified.\n",
            "that such minimum wage should be fixed for the price index prevailing at the time of the award taking 100 as the basic index for the year 1939, and that on that basis, the basic wage and dearness allowance should be Pa. 73, and that Pa. 11 was payable as production bonus; (2) that the dearness allowance element need not be linked to the price index, but that wage should be fixed at the prevailing price index leaving it to the workmen to ask for increase in minimum wage on any further rise in price index; (3 ) that the revised wages were payable with effect from 13th December, 1962; (4) that the three elements of basic wage, dearness allowance, and production bonus which make up the total minimum wage packet of Rs. 84 (Rs. 73 + Pa. 11) should be in the proportion of 3: 3: 1, and that profit bonus was payable at three months ' basic wage.\n",
            "The proportion of 3:3: 1 was fixed by the Tribunal, because, under an agreement of 1959 the management and workmen accepted that proportion by mutual consent.\n",
            "On the basis of that agreement, the Tribunal also held that; (5) casual workers should not be equated to permanent workers for purpose of minimum wages, and that casual and radii workers should not be allowed bonus on the same basis as the permanent workers; (6) The appellants also claimed before the Tribunal 6 months ' basic wage instead of 3 months ' basic wage, which was being paid by the respondent, on the assumption that certain before staff were being paid as bonus 3 months ' consolidated wage consisting of basic wage and dearness allowance; but the Tribunal rejected the claim.\n",
            "In appeal to this Court.\n",
            "HELD: (1) This Court laid down in French Motor Car Co. Ltd. vs Its Workmen, [1963] Supp.\n",
            "that where there is no concern in the same industry in the region comparable with the concern in which wages have to be fixed, greater emphasis should be laid on the region part of the industry cum region principle.\n",
            "To give full effect to this rule the Tribunal should have proceeded to fix the minimum wage in the respondent mills on the basis of the average minimum wage prevailing 667 in the other industries in that region.\n",
            "The respondent was not providing any amenities which should be taken into account in fixing the minimum wage, different from the amenities provided by those concerns in the region which were being compared.\n",
            "Therefore, the Tribunal should have fixed the minimum wage packet at Rs. 95 per mensem which was the average wage prevailing in all those concerns and should not have fixed the wages on an entirely different basis.\n",
            "[671 F H; 672 G H] (2) The Industrial, Tribunal has the discretion, in appropriate cases, of making a direction linking the dearness allowance element of a wage to the price index, or to fix the wage at the prevailing price index leaving the labour to raise a fresh demand and, if necessary, a fresh industrial dispute for further rise in wages, in case there is marked variation in price index and the wage fixed becomes outdated; and therefore.\n",
            "the Tribunal was not wrong in choosing the latter alternative.\n",
            "[674 F G; 675 B] Hydra (Engineers), vs The Workmen, ; , referred (3) This direction ' was objected to by respondents, on the ground that the respondent may have to pay arrears for 5 or 6 years which would be a heavy burden.\n",
            "But the previous agreement of 1959 was binding only upto 12th December, 1962.\n",
            "So, the Tribunal was right in directing that the revised wages should take effect from 13th December, 1962, in view of the considerable rise in the price index and the fact that the labour had not raised a fresh dispute for a further revision of wages since the date of the award.\n",
            "[675 G H] (4) No error was committed by the Tribunal in the break up of the wages into the 3 elements of basic wage, dearness allowance and production bonus in the proportion of 3: 3: 1.\n",
            "The contention of the workmen that the proportion should be 3:1: 1: so as to increase the basic wage element and consequently the profit bonus.\n",
            "was rightly rejected by the Tribunal, because.\n",
            "the proportion of 3:3:1 was accepted by mutual consent.\n",
            "[674 B C] (5) The distinction between casual workers and permanent workers for purpose of minimum wage, and casual and badli workers on the hand and permanent workers on the other for purpose of bonus, was recognised by the parties themselves in the agreement of 1959, and therefore, the Tribunal was right in keeping up the distinction in its award.\n",
            "[675 D E; 678 B C] (6) The allegation that some clerical staff was receiving what amounted to 6 months ' basic wage as bonus was incorrect.\n",
            "There was some clerical staff which did not get any dearness allowance and the bonus in their case was worked out on the basis of their wages which was only the basic wage.\n",
            "The appellants were wrong in assuming that the wage of such clerical staff was a consolidated wage consisting of the 2 elements of basic wage and dearness allowance.\n",
            "Therefore, the appellants could not claim 3 months ' consolidated wages as bonus which would amount to 6 months ' basic wage.\n",
            "[677 G H; 678 A B] It could not be urged by the appellants that calculation of available.\n",
            "surplus for purposes of bonus should have been on the basis of the Full Bench formula approved by this Court in Associated Cement Companies Ltd. vs Its Workmen, , for justifying 6 months ' basic wages as bonus, because, that was not the basis of the claim before the Tribunal.\n",
            "Further, the Tribunal was expected to decide the dispute only as referred to it, and at the time of the reference the accounts for the years 1962 63 and 1963 64 could not have been available, and therefore, 668 there could not possibly be a claim for higher bonus on the basis of the application of the Full Bench Formula.\n",
            "[676 D F; 677 C D]\n",
            "\n",
            "\n",
            "ROUGE Scores: {'rouge1': np.float64(0.525027808676307), 'rouge2': np.float64(0.2594654788418709), 'rougeL': np.float64(0.22691879866518355), 'rougeLsum': np.float64(0.4360400444938821)}\n",
            "\n",
            "\n",
            "=== File: 7109.txt ===\n",
            "Generated Summary:\n",
            "writ petitions were decided by the aforesaid common judgment . first writ petition was filed by the father Raghubir Singh . second writ petition was filed by his minor son Surendrapal Singh through his next friend Shri Jagjit Singh, maternal grand father of the minor . in pursuance of the direction of the Board, the Sub Divisional Officer, Hanumangarh, by his order dated 5th May, 1976 held that Surendrapal Singh, aged 12 years, was a minor son of Raghubir Singh . the sub divisional officer came to the conclusion that the father and the son constitute two separate units and each one of them was entitled to get 62 Bighas and 8 Biswas . it was thus held that Raghubir Singh and his son Surendrapal Singh are entitled writ petitions by 726 writ petitioners were dismissed by the high court in 1979 . surendrapal Singh, the erstwhile minor son of Raghubir Singh has come up by way of special leave . the supreme court upheld the order of the Board of Revenue and dismissed the writ petitions . a district shall be subordinate to the Collector thereof . a district shall be subordinate to the Sub Divisional Officer thereof . a district shall be subordinate to the Collector thereof . a district shall be subordinate to the Collector thereof . if the subordinate court disregards any specific provision of law it is open to the Board of Revenue to interfere and set the matter right . a similar question arose before the Rajasthan High Court in Kana and others vs Board of Revenue . the board noticed that there was no provision for separate unit in Chapter III B of tile Act of 1955 . the case was remanded to Sub Divisional Officer, Hanumangarh, for de novo determination . the appeal consequently fails and is dismissed with costs .\n",
            "\n",
            "Reference Summary:\n",
            "Proceedings were commenced under Chapter III B of the Rajasthan Tenancy Act 1955 for determining the ceiling area for Raghubir Singh, the father of the appellant.\n",
            "In a revision application in the first round of litigation.\n",
            "The Board of Revenue directed that the ceiling area for Raghubir Singh may be determined according to the old law, i.e. Act of 1955, and not according to the Rajasthan Imposition of Ceiling on Agricultural Holdings Act, 1973.\n",
            "Thereafter, by his order dt.\n",
            "5.5.76, the SDO held, inter alia, that tile father and the son, appellant, constituted two separate units and each of them was entitled to get 62 bighas and 8 biswas.\n",
            "Aggrieved by the SDO 's order, Raghubir Singh filed an appeal before Revenue Appellate Authority, which was dismissed.\n",
            "He then filed a revision application under S.230 of the Act of 1955 before the Board of Revenue for Rajasthan.\n",
            "He urged that he was in possession of 112 bighas only and sought permission to adduce additional evidence, which was disallowed.\n",
            "However, the Member of the Board held inter alia that the provisions of the old law applied to the case, but the SDO had committed an error of law in determining the ceiling area under the new Act of 1973.\n",
            "The Board further held that there is no provision for separate units in Chapter III B of the Act of 1955, and remanded the case to the SDO, Hanumangarh, for fresh determination of the Ceiling area for Raghubir Singh.\n",
            "Before the High Court, it was urged that the State having not appealed against the order of the SDO dated 5.5.76, it became final, and the Board of 723 Revenue had no jurisdiction to set aside that part of the SDO 's order which had gone against the State and in his favour.\n",
            "It was submitted that the power of general superintendence and control over all revenue courts which vested in the Board could not be exercised to the detriment of the writ petitioners much less by way of suo motu exercise of powers.\n",
            "The High Court dismissed the petitions.\n",
            "Before this court it was submitted that the State not having filed an appeal, or a revision, the Board of Revenue could not, while hearing the revision petition of Raghubir Singh, set aside the orders of the SDO and Revenue Appellate Authority under S.221 of the Act of 1955.\n",
            "Dismissing the appeal, this court, HELD:. .(1) S.221 is not subject to the other provisions of the Act.\n",
            "It is clear from the language of Section 221 of the Act 1955 that the Board of Revenue has general powers of superintendence and control over all revenue courts.\n",
            "It is both administrative as well as judicial powers.\n",
            "It is open to the Board to exercise its powers of superintendence on all its subordinate courts in order to regulate the functioning of the subordinate courts so as to keep them within their respective spheres of jurisdiction.\n",
            "If the subordinate court disregards any specific provision of law and does something illegal it is open to the Board of Revenue to interfere and set the matter right.\n",
            "(727 E) Karan Singh vs Board of revenue, Rajasthan and Permessar Singh vs Kailaspati AIR 1916 Pat. 292 (FB), distinguished.\n",
            "Kana vs Board of Revenue ILR , approved.\n",
            "(2) There is no restriction on the powers of the Board to set aside the order of the SDO provided it comes to the conclusion that interest of justice requires exercise of such powers.\n",
            "(728 D) (3) In not determining the ceiling area according to the Act of 1955, the SDO committed a grave illegality in not merely ignoring the law but also ignoring the directions of the Board of Revenue itself.\n",
            "(728 F) 724\n",
            "\n",
            "\n",
            "ROUGE Scores: {'rouge1': np.float64(0.3930510314875136), 'rouge2': np.float64(0.21545157780195864), 'rougeL': np.float64(0.24972855591748105), 'rougeLsum': np.float64(0.34310532030401736)}\n",
            "\n"
          ]
        }
      ]
    },
    {
      "cell_type": "code",
      "source": [],
      "metadata": {
        "id": "jobPzEzUlL_M"
      },
      "execution_count": null,
      "outputs": []
    }
  ]
}